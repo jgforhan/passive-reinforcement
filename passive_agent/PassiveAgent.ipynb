{
 "cells": [
  {
   "cell_type": "code",
   "execution_count": 1,
   "id": "7034c54d-bc65-449b-aca5-d9fd38c7e191",
   "metadata": {},
   "outputs": [],
   "source": [
    "import numpy as np\n",
    "import agent as a\n",
    "from consts import *"
   ]
  },
  {
   "cell_type": "code",
   "execution_count": 2,
   "id": "699c756f-93bd-4557-8e5c-6a074b3119eb",
   "metadata": {},
   "outputs": [],
   "source": [
    "## WORLD\n",
    "## 0 is a normal state\n",
    "## 1 is a positive goal state\n",
    "## 2 is a negative goal state\n",
    "## 3 is unpathable obstacle\n",
    "world_state = [[0 for col in range(COLS)] for row in range(ROWS)]\n",
    "world_state[1][3] = POS_GOAL\n",
    "world_state[2][3] = NEG_GOAL\n",
    "world_state[1][1] = NO_PATH\n",
    "world_state = np.array(world_state)"
   ]
  },
  {
   "cell_type": "code",
   "execution_count": null,
   "id": "8c3e9fe3-07e6-4df6-9cf0-fd29bbc154cb",
   "metadata": {},
   "outputs": [],
   "source": []
  },
  {
   "cell_type": "code",
   "execution_count": 3,
   "id": "3dbe98ae-b4fa-49d5-96ba-7c983aed1055",
   "metadata": {},
   "outputs": [],
   "source": [
    "## REWARD_FN\n",
    "reward_fn = [[-0.04 for col in range(COLS)] for row in range(ROWS)]\n",
    "reward_fn[1][3] = NEG_REW\n",
    "reward_fn[2][3] = POS_REW\n",
    "reward_fn = np.array(reward_fn)"
   ]
  },
  {
   "cell_type": "code",
   "execution_count": 4,
   "id": "3952c54e-5b72-457f-93c5-00df9ef6f186",
   "metadata": {},
   "outputs": [
    {
     "name": "stdout",
     "output_type": "stream",
     "text": [
      "[[-0.04 -0.04 -0.04 -0.04]\n",
      " [-0.04 -0.04 -0.04 -1.  ]\n",
      " [-0.04 -0.04 -0.04  1.  ]]\n"
     ]
    }
   ],
   "source": [
    "print(reward_fn)"
   ]
  },
  {
   "cell_type": "code",
   "execution_count": 5,
   "id": "f9eb7dd3-daeb-41e4-aa61-ba2b61fd71f0",
   "metadata": {},
   "outputs": [],
   "source": [
    "## POLICY\n",
    "policy = [[DOWN for col in range(COLS)] for row in range(ROWS)]\n",
    "policy[2][0] = RIGHT\n",
    "policy[0][1] = LEFT\n",
    "policy[1][1] = NO_POL\n",
    "policy[2][1] = RIGHT\n",
    "policy[0][2] = LEFT\n",
    "policy[2][2] = RIGHT\n",
    "policy[0][3] = LEFT\n",
    "policy[1][3] = NO_POL\n",
    "policy[2][3] = NO_POL\n",
    "policy = np.array(policy)"
   ]
  },
  {
   "cell_type": "code",
   "execution_count": 6,
   "id": "d4eeda7f-de93-4705-b886-fa33313931a5",
   "metadata": {},
   "outputs": [
    {
     "name": "stdout",
     "output_type": "stream",
     "text": [
      "[[1 2 2 2]\n",
      " [1 4 1 4]\n",
      " [3 3 3 4]]\n"
     ]
    }
   ],
   "source": [
    "print(policy)"
   ]
  },
  {
   "cell_type": "code",
   "execution_count": 7,
   "id": "a891bcbd-2847-4ad9-ae71-487c4bd6b5a7",
   "metadata": {},
   "outputs": [],
   "source": [
    "my_agent = a.Agent(world_state, reward_fn, policy)"
   ]
  },
  {
   "cell_type": "code",
   "execution_count": 8,
   "id": "aeb33057-8158-4b35-a9f1-5e1d53a89a14",
   "metadata": {},
   "outputs": [],
   "source": [
    "for i in range(50000):\n",
    "    my_agent.act()"
   ]
  },
  {
   "cell_type": "code",
   "execution_count": 9,
   "id": "bc4f8090-84c3-42d0-9c04-a0f13e95b213",
   "metadata": {},
   "outputs": [
    {
     "data": {
      "text/plain": [
       "array([[ 0.70530222,  0.6552178 , -0.04      , -0.04      ],\n",
       "       [ 0.76154556,  0.        ,  0.65510285, -1.        ],\n",
       "       [ 0.81172845,  0.86703259,  0.91717821,  1.        ]])"
      ]
     },
     "execution_count": 9,
     "metadata": {},
     "output_type": "execute_result"
    }
   ],
   "source": [
    "my_agent.values"
   ]
  },
  {
   "cell_type": "code",
   "execution_count": null,
   "id": "bbeb5b46-3433-4964-85e2-1bc3b996f125",
   "metadata": {},
   "outputs": [],
   "source": []
  }
 ],
 "metadata": {
  "kernelspec": {
   "display_name": "Python 3 (ipykernel)",
   "language": "python",
   "name": "python3"
  },
  "language_info": {
   "codemirror_mode": {
    "name": "ipython",
    "version": 3
   },
   "file_extension": ".py",
   "mimetype": "text/x-python",
   "name": "python",
   "nbconvert_exporter": "python",
   "pygments_lexer": "ipython3",
   "version": "3.11.7"
  }
 },
 "nbformat": 4,
 "nbformat_minor": 5
}
